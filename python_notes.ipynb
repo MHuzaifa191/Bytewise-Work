{
 "cells": [
  {
   "cell_type": "markdown",
   "metadata": {},
   "source": [
    "# Variables\n",
    "\n",
    "- case sensitive\n",
    "- start with a letter or _\n",
    "- can contain number but not in start"
   ]
  },
  {
   "cell_type": "code",
   "execution_count": 5,
   "metadata": {},
   "outputs": [
    {
     "name": "stdout",
     "output_type": "stream",
     "text": [
      "3 2.5 Huzaifa\n",
      "5.5\n",
      "<class 'float'>\n"
     ]
    }
   ],
   "source": [
    "integer = 1\n",
    "floating = 1.5\n",
    "name = 'Huzaifa'\n",
    "\n",
    "integer, floating, name = (3, 2.5, 'Huzaifa')\n",
    "\n",
    "# Print\n",
    "print(integer, floating, name)\n",
    "\n",
    "# Math + Cast\n",
    "a = int(integer) + float(floating)\n",
    "print(a)\n",
    "\n",
    "# Type\n",
    "print(type(a))"
   ]
  },
  {
   "cell_type": "markdown",
   "metadata": {},
   "source": [
    "# Strings\n",
    "\n",
    "- Strings in python are surrounded by either single or double quotation marks"
   ]
  },
  {
   "cell_type": "code",
   "execution_count": 6,
   "metadata": {},
   "outputs": [
    {
     "name": "stdout",
     "output_type": "stream",
     "text": [
      "Hello, my name is Huzaifa and I am 20\n",
      "Hello, my name is Huzaifa and I am 20\n",
      "Helloworld\n",
      "HELLOWORLD\n",
      "helloworld\n",
      "HELLOWORLD\n",
      "10\n",
      "helloeveryone\n",
      "1\n",
      "True\n",
      "True\n",
      "['helloworld']\n",
      "7\n",
      "True\n",
      "True\n",
      "False\n"
     ]
    }
   ],
   "source": [
    "name = 'Huzaifa'\n",
    "age = 20\n",
    "\n",
    "\n",
    "print('Hello, my name is ' + name + ' and I am ' + str(age)) # concatenate\n",
    "\n",
    "\n",
    "# F-Strings\n",
    "print(f'Hello, my name is {name} and I am {age}')\n",
    "\n",
    "s = 'helloworld'\n",
    "sub = 'h'\n",
    "\n",
    "# String Methods\n",
    "\n",
    "print(s.capitalize()) # capitalize string\n",
    "print(s.upper()) # make everything uppercase\n",
    "print(s.lower()) # make everthing lowercase\n",
    "print(s.swapcase()) # swap case\n",
    "print(len(s)) # length of string\n",
    "print(s.replace('world', 'everyone')) # replace word\n",
    "print(s.count(sub)) # count in string\n",
    "print(s.startswith('hello')) # print true if starts with\n",
    "print(s.endswith('d')) #  print true if ends with\n",
    "print(s.split()) # split into a list\n",
    "print(s.find('r')) # find index\n",
    "print(s.isalnum()) # true if all alphanumeric\n",
    "print(s.isalpha()) # true if all alphabetic\n",
    "print(s.isnumeric()) # true if all numeric"
   ]
  },
  {
   "cell_type": "markdown",
   "metadata": {},
   "source": [
    "# Lists\n",
    "\n",
    "- A List is a collection which is ordered and changeable. Allows duplicate members.\n",
    "\n"
   ]
  },
  {
   "cell_type": "code",
   "execution_count": null,
   "metadata": {},
   "outputs": [],
   "source": [
    "numbers = [1, 2, 3, 4, 5]\n",
    "fruits = ['Apples', 'Oranges', 'Grapes', 'Pears']\n",
    "\n",
    "print(fruits[1])\n",
    "print(fruits[-1]) # Last Value\n",
    "print(len(fruits)) # Length of list\n",
    "\n",
    "\n",
    "# List Methods\n",
    "\n",
    "fruits.append('Mangos') # appends at the end\n",
    "fruits.remove('Grapes') # removes the item from list\n",
    "fruits.insert(2, 'Strawberries') # insert at position\n",
    "fruits[0] = 'Blueberries' # update value\n",
    "fruits.pop(2) # removes the last item from list like a stack\n",
    "fruits.reverse() # reverses the list\n",
    "fruits.sort() # sort\n",
    "fruits.sort(reverse=True) # reverse Sort"
   ]
  },
  {
   "cell_type": "markdown",
   "metadata": {},
   "source": [
    "# Tuples\n",
    "\n",
    "- A Tuple is a collection which is ordered and unchangeable. Allows duplicate members.\n",
    "- Uses ()"
   ]
  },
  {
   "cell_type": "code",
   "execution_count": 10,
   "metadata": {},
   "outputs": [
    {
     "name": "stdout",
     "output_type": "stream",
     "text": [
      "Oranges\n",
      "3\n"
     ]
    }
   ],
   "source": [
    "fruits = ('Apples', 'Oranges', 'Grapes')\n",
    "fruits2 = ('Apples',) # single value needs a trailing comma\n",
    "print(fruits[1]) # print a value\n",
    "#fruits[0] = 'Pears' (wrong, cannot update a value)\n",
    "del fruits2 # delete a tuple\n",
    "print(len(fruits)) # print length"
   ]
  },
  {
   "cell_type": "markdown",
   "metadata": {},
   "source": [
    "# Sets\n",
    "\n",
    "- A Set is a collection which is unordered and unindexed. No duplicate members\n",
    "- Uses {}"
   ]
  },
  {
   "cell_type": "code",
   "execution_count": 15,
   "metadata": {},
   "outputs": [
    {
     "name": "stdout",
     "output_type": "stream",
     "text": [
      "True\n",
      "{'Oranges', 'Mango', 'Apples'}\n",
      "set()\n"
     ]
    }
   ],
   "source": [
    "fruits_set = {'Apples', 'Oranges', 'Mango'}\n",
    "print('Apples' in fruits_set) # print true if in set\n",
    "fruits_set.add('Grape') # add to set\n",
    "fruits_set.remove('Grape') # remove from set\n",
    "fruits_set.add('Apples') # add duplicate (doesn't add)\n",
    "print(fruits_set)\n",
    "fruits_set.clear() # clear set\n",
    "print(fruits_set)\n",
    "del fruits_set # delete set"
   ]
  },
  {
   "cell_type": "markdown",
   "metadata": {},
   "source": [
    "# Dictionary\n",
    "\n",
    "- A Dictionary is a collection which is unordered, changeable and indexed. No duplicate members.\n",
    "- You provide a key and a value"
   ]
  },
  {
   "cell_type": "code",
   "execution_count": null,
   "metadata": {},
   "outputs": [],
   "source": [
    "person = {\n",
    "    'first_name': 'John',\n",
    "    'last_name': 'Doe',\n",
    "    'age': 30\n",
    "}\n",
    "\n",
    "# Dictionary Methods\n",
    "\n",
    "print(person['first_name']) # print value next to key\n",
    "print(person.get('last_name')) # print value next to key\n",
    "person['phone'] = '555-555-5555' # add key/value\n",
    "print(person.keys()) # get dict keys\n",
    "print(person.items()) # get dict items\n",
    "person2 = person.copy() # get dict items\n",
    "person2['city'] = 'Boston' # update value for a key\n",
    "del(person['age']) # remove item\n",
    "person.pop('phone') # pop an item\n",
    "person.clear() # clear dictionary\n",
    "print(len(person2)) # print length"
   ]
  },
  {
   "cell_type": "markdown",
   "metadata": {},
   "source": [
    "# Functions\n",
    "\n",
    "- A function is a block of code which only runs when it is called. In Python, we do not use curly brackets, we use indentation with tabs or spaces\n",
    "- A lambda function is a small anonymous function which can take any number of arguments, but can only have one expression."
   ]
  },
  {
   "cell_type": "code",
   "execution_count": 16,
   "metadata": {},
   "outputs": [
    {
     "name": "stdout",
     "output_type": "stream",
     "text": [
      "13\n"
     ]
    }
   ],
   "source": [
    "def sayHello(name='Sam'): # defition\n",
    "    print(f'Hello {name}')\n",
    "    return name # return value\n",
    "\n",
    "getSum = lambda num1, num2: num1 + num2 # lambda function for summation\n",
    "print(getSum(10, 3))"
   ]
  },
  {
   "cell_type": "markdown",
   "metadata": {},
   "source": [
    "# If / Else Conditionals\n",
    "\n",
    "- If / Else conditions are used to decide to do something based on something being true or false"
   ]
  },
  {
   "cell_type": "code",
   "execution_count": 22,
   "metadata": {},
   "outputs": [
    {
     "name": "stdout",
     "output_type": "stream",
     "text": [
      "21 is greater than 20\n",
      "num1 is 21 and num2 is 20\n",
      "num2 is 20\n",
      "21 is not equal to 20\n",
      "num1 not in numbers\n",
      "num1 is not num2\n"
     ]
    }
   ],
   "source": [
    "num1 = 21\n",
    "num2 = 20\n",
    "\n",
    "if num1 > num2: # simple if\n",
    "  print(f'{num1} is greater than {num2}')\n",
    "  if num1 == 21 and num2 == 20: # and operator\n",
    "    print(f'num1 is {num1} and num2 is {num2}')\n",
    "  if num1 == 10 or num2 == 20: # or operator\n",
    "    print(f'num2 is {num2}')\n",
    "  if not(num1 == num2): # not case\n",
    "    print(f'{num1} is not equal to {num2}')\n",
    "elif num1 == num2: # else if\n",
    "  print(f'{num1} is equal to {num2}')  \n",
    "else: # else condition\n",
    "  print(f'{num2} is greater than {num1}')  \n",
    "\n",
    "\n",
    "numbers = [1,2,3,4,5]\n",
    "\n",
    "if num1 in numbers: # membership in operator (num1 is found in list of numbers)\n",
    "  print(\"num1 in numbers\")\n",
    "\n",
    "# not in\n",
    "if num1 not in numbers: # membership  not in operator (num1 is not in numbers list)\n",
    "  print(\"num1 not in numbers\")\n",
    "\n",
    "if num1 is num2: # check if num1 is the same object as num2 (in same memory location)\n",
    "  print(\"num1 is num2\")\n",
    "\n",
    "if num1 is not num2: # check if num1 is not the same object as num2 (not in same memory location)\n",
    "  print(\"num1 is not num2\")"
   ]
  },
  {
   "cell_type": "markdown",
   "metadata": {},
   "source": [
    "# Loops\n",
    "\n",
    "- A for loop is used for iterating over a sequence like a list, tuple, dictionary, set and a string\n",
    "- A while loop like c++ continues until the condition returns true\n"
   ]
  },
  {
   "cell_type": "code",
   "execution_count": null,
   "metadata": {},
   "outputs": [],
   "source": [
    "people = ['John', 'Paul', 'Sara', 'Susan']\n",
    "\n",
    "for person in people: # iterate over people one by one from list of people\n",
    "  if person == 'Sara':\n",
    "    break # break the loop\n",
    "  else:\n",
    "    continue # continue execution\n",
    "  print(f'Current Person: {person}')\n",
    "\n",
    "for i in range(len(people)): # range from 0 to length of list people\n",
    "  print(people[i])\n",
    "\n",
    "for i in range(0, 11): # range defined by user from 0 to 11\n",
    "  print(f'Number: {i}')\n",
    "\n",
    "\n",
    "count = 0\n",
    "while count < 10: # continues until count is less than 10\n",
    "  print(f'Count: {count}')\n",
    "  count += 1"
   ]
  },
  {
   "cell_type": "markdown",
   "metadata": {},
   "source": [
    "# Modules\n",
    "\n",
    "- A module is basically a file containing a set of functions to include in your application. There are core python modules, modules you can install using the pip package manager (including Django) as well as custom modules\n"
   ]
  },
  {
   "cell_type": "code",
   "execution_count": null,
   "metadata": {},
   "outputs": [],
   "source": [
    "import datetime # import a module\n",
    "from datetime import date # import custom module\n",
    "import time\n",
    "from time import time\n",
    "\n",
    "from camelcase import CamelCase\n",
    "import validator\n",
    "from validator import validate_email\n",
    "\n",
    "today = date.today()\n",
    "timestamp = time()\n",
    "\n",
    "c = CamelCase()\n",
    "\n",
    "email = 'test#test.com'\n",
    "if validate_email(email):\n",
    "  print('Email is valid')\n",
    "else:\n",
    "  print('Email is bad')"
   ]
  },
  {
   "cell_type": "markdown",
   "metadata": {},
   "source": [
    "# Classes\n",
    "\n",
    "- Just like in c++, a class is like a blueprint for creating objects. An object has properties and methods(functions) associated with it\n",
    "- In classes, encapsulation is the concept of making the variables non-accessible or accessible upto some extent from the child classes\n"
   ]
  },
  {
   "cell_type": "code",
   "execution_count": 2,
   "metadata": {},
   "outputs": [
    {
     "name": "stdout",
     "output_type": "stream",
     "text": [
      "My name is Janet Johnson and I am 25 and my balance is 500\n",
      "My name is Brad Traversy and I am 38\n",
      "1000\n",
      "800\n",
      "1000\n",
      "600\n",
      "800\n"
     ]
    }
   ],
   "source": [
    "class Car:\n",
    "  def __init__(self, name, cc, color):\n",
    "    self.name = name\n",
    "    self.cc = cc\n",
    "    self.color = color\n",
    "    self._private_engine_number = 1000 # Encapsulated variables are declares with '_' in the constructor.\n",
    "\n",
    "  def print_details(self):\n",
    "      return f'My name is {self.name} and I am {self.age}'\n",
    " \n",
    "  def print_engine_number(self):  #function for encap variable\n",
    "      print(self._private_engine_number)\n",
    "\n",
    "class Porsche(Car): # extended class\n",
    "  def __init__(self, name, cc, color):\n",
    "      Car.__init__(self, name, cc, color) #Called proper parent class constructor to make this as proper child inehriting all methods.\n",
    "      self.name = name\n",
    "      self.cc = cc\n",
    "      self.color = color\n",
    "      self.model = 2008"
   ]
  },
  {
   "cell_type": "markdown",
   "metadata": {},
   "source": [
    "# Files\n",
    "\n",
    "- Python has functions for creating, reading, updating, and deleting files"
   ]
  },
  {
   "cell_type": "code",
   "execution_count": 11,
   "metadata": {},
   "outputs": [
    {
     "name": "stdout",
     "output_type": "stream",
     "text": [
      "Name:  myfile.txt\n",
      "Is Closed :  False\n",
      "Opening Mode:  w\n",
      "Name:  myfile.txt\n",
      "Is Closed :  True\n",
      "Opening Mode:  w\n",
      "I like python. I also like PHP.\n"
     ]
    }
   ],
   "source": [
    "\n",
    "myFile = open('myfile.txt', 'w') # file name and opening mode (write mode)\n",
    "\n",
    "print('Name: ', myFile.name)\n",
    "print('Is Closed : ', myFile.closed)\n",
    "print('Opening Mode: ', myFile.mode)\n",
    "myFile.write(\"I like python.\")\n",
    "\n",
    "myFile.close()\n",
    "\n",
    "print('Name: ', myFile.name)\n",
    "print('Is Closed : ', myFile.closed)\n",
    "print('Opening Mode: ', myFile.mode)\n",
    "\n",
    "myFile = open('myfile.txt', 'a') # open in append mode\n",
    "myFile.write(' I also like PHP.')\n",
    "myFile.close()\n",
    "\n",
    "myFile = open('myfile.txt', 'r')\n",
    "text = myFile.read(100)\n",
    "print(text)"
   ]
  },
  {
   "cell_type": "markdown",
   "metadata": {},
   "source": [
    "# JSON\n",
    "\n",
    "- JSON is a data storing method which is commonly used with data APIS"
   ]
  },
  {
   "cell_type": "code",
   "execution_count": null,
   "metadata": {},
   "outputs": [],
   "source": [
    "import json\n",
    "\n",
    "userJSON = '{\"first_name\": \"John\", \"last_name\": \"Doe\", \"age\": 30}'\n",
    "user = json.loads(userJSON)\n",
    "\n",
    "print(user)\n",
    "\n",
    "car = {'make': 'Ford', 'model': 'Mustang', 'year': 1970}\n",
    "carJSON = json.dumps(car)\n",
    "\n",
    "print(carJSON)"
   ]
  }
 ],
 "metadata": {
  "kernelspec": {
   "display_name": "Python 3",
   "language": "python",
   "name": "python3"
  },
  "language_info": {
   "codemirror_mode": {
    "name": "ipython",
    "version": 3
   },
   "file_extension": ".py",
   "mimetype": "text/x-python",
   "name": "python",
   "nbconvert_exporter": "python",
   "pygments_lexer": "ipython3",
   "version": "3.12.3"
  }
 },
 "nbformat": 4,
 "nbformat_minor": 2
}
